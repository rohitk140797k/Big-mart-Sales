{
  "nbformat": 4,
  "nbformat_minor": 0,
  "metadata": {
    "kernelspec": {
      "display_name": "Python 3",
      "language": "python",
      "name": "python3"
    },
    "language_info": {
      "codemirror_mode": {
        "name": "ipython",
        "version": 3
      },
      "file_extension": ".py",
      "mimetype": "text/x-python",
      "name": "python",
      "nbconvert_exporter": "python",
      "pygments_lexer": "ipython3",
      "version": "3.6.5"
    },
    "colab": {
      "name": "Lesson 1 - Tweets analysis v0.1.ipynb",
      "provenance": [],
      "toc_visible": true,
      "include_colab_link": true
    }
  },
  "cells": [
    {
      "cell_type": "markdown",
      "metadata": {
        "id": "view-in-github",
        "colab_type": "text"
      },
      "source": [
        "<a href=\"https://colab.research.google.com/github/rohitk140797k/Big-mart-Sales/blob/master/Lesson_1_Tweets_analysis_v0_1.ipynb\" target=\"_parent\"><img src=\"https://colab.research.google.com/assets/colab-badge.svg\" alt=\"Open In Colab\"/></a>"
      ]
    },
    {
      "cell_type": "markdown",
      "metadata": {
        "id": "LgdTgd11GPm5",
        "colab_type": "text"
      },
      "source": [
        "## Objective: \n",
        "Analyse tweets on a subject (economy) to identify -   \n",
        "- the top hashtags associated with a target hashtag ('economy')\n",
        "\n",
        "We'll need to perform a lot of clean up during the process. We will - \n",
        "- Normalize case\n",
        "- Tokenize with specific rules\n",
        "- Contextual stop word removal\n",
        "- Cleanup - removal of URLs, User handles\n",
        "\n",
        "Finally, we'll plot the top 10 hashtags that occurred along with '#economy' on a horizontal bar chart"
      ]
    },
    {
      "cell_type": "code",
      "metadata": {
        "id": "ReHrodLFGPm_",
        "colab_type": "code",
        "colab": {}
      },
      "source": [
        "import pandas as pd"
      ],
      "execution_count": 0,
      "outputs": []
    },
    {
      "cell_type": "code",
      "metadata": {
        "id": "-uK7nRsoGPnO",
        "colab_type": "code",
        "colab": {
          "base_uri": "https://localhost:8080/",
          "height": 204
        },
        "outputId": "7b3d106e-524d-4a7f-edb8-cf4954804179"
      },
      "source": [
        "inp_tweets0 = pd.read_csv(\"raw_tweets_economy.txt\", sep=\"\\t\")\n",
        "inp_tweets0.head()"
      ],
      "execution_count": 2,
      "outputs": [
        {
          "output_type": "execute_result",
          "data": {
            "text/html": [
              "<div>\n",
              "<style scoped>\n",
              "    .dataframe tbody tr th:only-of-type {\n",
              "        vertical-align: middle;\n",
              "    }\n",
              "\n",
              "    .dataframe tbody tr th {\n",
              "        vertical-align: top;\n",
              "    }\n",
              "\n",
              "    .dataframe thead th {\n",
              "        text-align: right;\n",
              "    }\n",
              "</style>\n",
              "<table border=\"1\" class=\"dataframe\">\n",
              "  <thead>\n",
              "    <tr style=\"text-align: right;\">\n",
              "      <th></th>\n",
              "      <th>Unnamed: 0</th>\n",
              "      <th>0</th>\n",
              "    </tr>\n",
              "  </thead>\n",
              "  <tbody>\n",
              "    <tr>\n",
              "      <th>0</th>\n",
              "      <td>0</td>\n",
              "      <td>Stocks losses deepen as a key recession warnin...</td>\n",
              "    </tr>\n",
              "    <tr>\n",
              "      <th>1</th>\n",
              "      <td>1</td>\n",
              "      <td>RT @CallMeAhmjusAyn: The #economy.\\r\\n@FoxNews...</td>\n",
              "    </tr>\n",
              "    <tr>\n",
              "      <th>2</th>\n",
              "      <td>2</td>\n",
              "      <td>AP Explains: Is the US economy nearing a reces...</td>\n",
              "    </tr>\n",
              "    <tr>\n",
              "      <th>3</th>\n",
              "      <td>3</td>\n",
              "      <td>A @JobCreatorsUSA / https://t.co/JXEt7hQU4k su...</td>\n",
              "    </tr>\n",
              "    <tr>\n",
              "      <th>4</th>\n",
              "      <td>4</td>\n",
              "      <td>Who will stop mr. Mario Draghi and the ECB wit...</td>\n",
              "    </tr>\n",
              "  </tbody>\n",
              "</table>\n",
              "</div>"
            ],
            "text/plain": [
              "   Unnamed: 0                                                  0\n",
              "0           0  Stocks losses deepen as a key recession warnin...\n",
              "1           1  RT @CallMeAhmjusAyn: The #economy.\\r\\n@FoxNews...\n",
              "2           2  AP Explains: Is the US economy nearing a reces...\n",
              "3           3  A @JobCreatorsUSA / https://t.co/JXEt7hQU4k su...\n",
              "4           4  Who will stop mr. Mario Draghi and the ECB wit..."
            ]
          },
          "metadata": {
            "tags": []
          },
          "execution_count": 2
        }
      ]
    },
    {
      "cell_type": "markdown",
      "metadata": {
        "id": "fFKNu4_gGPnc",
        "colab_type": "text"
      },
      "source": [
        "#### Drop the column '0', rename column '1' to 'tweet'"
      ]
    },
    {
      "cell_type": "code",
      "metadata": {
        "id": "IDMD-aTjGPne",
        "colab_type": "code",
        "colab": {}
      },
      "source": [
        "inp_tweets0.drop('Unnamed: 0', inplace=True, axis=1)"
      ],
      "execution_count": 0,
      "outputs": []
    },
    {
      "cell_type": "code",
      "metadata": {
        "id": "bvLz01EIGPnm",
        "colab_type": "code",
        "colab": {
          "base_uri": "https://localhost:8080/",
          "height": 34
        },
        "outputId": "7d45f0c8-e056-4a96-c9b5-c10365af68b8"
      },
      "source": [
        "inp_tweets0.shape"
      ],
      "execution_count": 4,
      "outputs": [
        {
          "output_type": "execute_result",
          "data": {
            "text/plain": [
              "(500, 1)"
            ]
          },
          "metadata": {
            "tags": []
          },
          "execution_count": 4
        }
      ]
    },
    {
      "cell_type": "code",
      "metadata": {
        "id": "ehardC6OGPnv",
        "colab_type": "code",
        "colab": {
          "base_uri": "https://localhost:8080/",
          "height": 204
        },
        "outputId": "c6e85c05-8afb-455e-9ff1-c82c6ec6a4fa"
      },
      "source": [
        "inp_tweets0.head()"
      ],
      "execution_count": 5,
      "outputs": [
        {
          "output_type": "execute_result",
          "data": {
            "text/html": [
              "<div>\n",
              "<style scoped>\n",
              "    .dataframe tbody tr th:only-of-type {\n",
              "        vertical-align: middle;\n",
              "    }\n",
              "\n",
              "    .dataframe tbody tr th {\n",
              "        vertical-align: top;\n",
              "    }\n",
              "\n",
              "    .dataframe thead th {\n",
              "        text-align: right;\n",
              "    }\n",
              "</style>\n",
              "<table border=\"1\" class=\"dataframe\">\n",
              "  <thead>\n",
              "    <tr style=\"text-align: right;\">\n",
              "      <th></th>\n",
              "      <th>0</th>\n",
              "    </tr>\n",
              "  </thead>\n",
              "  <tbody>\n",
              "    <tr>\n",
              "      <th>0</th>\n",
              "      <td>Stocks losses deepen as a key recession warnin...</td>\n",
              "    </tr>\n",
              "    <tr>\n",
              "      <th>1</th>\n",
              "      <td>RT @CallMeAhmjusAyn: The #economy.\\r\\n@FoxNews...</td>\n",
              "    </tr>\n",
              "    <tr>\n",
              "      <th>2</th>\n",
              "      <td>AP Explains: Is the US economy nearing a reces...</td>\n",
              "    </tr>\n",
              "    <tr>\n",
              "      <th>3</th>\n",
              "      <td>A @JobCreatorsUSA / https://t.co/JXEt7hQU4k su...</td>\n",
              "    </tr>\n",
              "    <tr>\n",
              "      <th>4</th>\n",
              "      <td>Who will stop mr. Mario Draghi and the ECB wit...</td>\n",
              "    </tr>\n",
              "  </tbody>\n",
              "</table>\n",
              "</div>"
            ],
            "text/plain": [
              "                                                   0\n",
              "0  Stocks losses deepen as a key recession warnin...\n",
              "1  RT @CallMeAhmjusAyn: The #economy.\\r\\n@FoxNews...\n",
              "2  AP Explains: Is the US economy nearing a reces...\n",
              "3  A @JobCreatorsUSA / https://t.co/JXEt7hQU4k su...\n",
              "4  Who will stop mr. Mario Draghi and the ECB wit..."
            ]
          },
          "metadata": {
            "tags": []
          },
          "execution_count": 5
        }
      ]
    },
    {
      "cell_type": "markdown",
      "metadata": {
        "id": "D_5--w1LGPn2",
        "colab_type": "text"
      },
      "source": [
        "Renaming the column"
      ]
    },
    {
      "cell_type": "code",
      "metadata": {
        "id": "DwevWJmgGPn4",
        "colab_type": "code",
        "colab": {
          "base_uri": "https://localhost:8080/",
          "height": 204
        },
        "outputId": "6c5c8022-e24e-4a8f-a2a4-a592fdbad0fb"
      },
      "source": [
        "inp_tweets0 = inp_tweets0.rename({'0':'tweet'}, axis=1)\n",
        "inp_tweets0.head()"
      ],
      "execution_count": 6,
      "outputs": [
        {
          "output_type": "execute_result",
          "data": {
            "text/html": [
              "<div>\n",
              "<style scoped>\n",
              "    .dataframe tbody tr th:only-of-type {\n",
              "        vertical-align: middle;\n",
              "    }\n",
              "\n",
              "    .dataframe tbody tr th {\n",
              "        vertical-align: top;\n",
              "    }\n",
              "\n",
              "    .dataframe thead th {\n",
              "        text-align: right;\n",
              "    }\n",
              "</style>\n",
              "<table border=\"1\" class=\"dataframe\">\n",
              "  <thead>\n",
              "    <tr style=\"text-align: right;\">\n",
              "      <th></th>\n",
              "      <th>tweet</th>\n",
              "    </tr>\n",
              "  </thead>\n",
              "  <tbody>\n",
              "    <tr>\n",
              "      <th>0</th>\n",
              "      <td>Stocks losses deepen as a key recession warnin...</td>\n",
              "    </tr>\n",
              "    <tr>\n",
              "      <th>1</th>\n",
              "      <td>RT @CallMeAhmjusAyn: The #economy.\\r\\n@FoxNews...</td>\n",
              "    </tr>\n",
              "    <tr>\n",
              "      <th>2</th>\n",
              "      <td>AP Explains: Is the US economy nearing a reces...</td>\n",
              "    </tr>\n",
              "    <tr>\n",
              "      <th>3</th>\n",
              "      <td>A @JobCreatorsUSA / https://t.co/JXEt7hQU4k su...</td>\n",
              "    </tr>\n",
              "    <tr>\n",
              "      <th>4</th>\n",
              "      <td>Who will stop mr. Mario Draghi and the ECB wit...</td>\n",
              "    </tr>\n",
              "  </tbody>\n",
              "</table>\n",
              "</div>"
            ],
            "text/plain": [
              "                                               tweet\n",
              "0  Stocks losses deepen as a key recession warnin...\n",
              "1  RT @CallMeAhmjusAyn: The #economy.\\r\\n@FoxNews...\n",
              "2  AP Explains: Is the US economy nearing a reces...\n",
              "3  A @JobCreatorsUSA / https://t.co/JXEt7hQU4k su...\n",
              "4  Who will stop mr. Mario Draghi and the ECB wit..."
            ]
          },
          "metadata": {
            "tags": []
          },
          "execution_count": 6
        }
      ]
    },
    {
      "cell_type": "code",
      "metadata": {
        "id": "lddkTEWOGPoB",
        "colab_type": "code",
        "colab": {
          "base_uri": "https://localhost:8080/",
          "height": 71
        },
        "outputId": "8de73577-7db5-4486-f3fd-81747f1e1166"
      },
      "source": [
        "inp_tweets0.tweet.sample().values"
      ],
      "execution_count": 7,
      "outputs": [
        {
          "output_type": "execute_result",
          "data": {
            "text/plain": [
              "array(['RT @TheAssetMag: Singapore comes second in BRI opportunities in ASEAN- #BeltAndRoad #economy #infrastructure https://t.co/8k0h2oQ4BT'],\n",
              "      dtype=object)"
            ]
          },
          "metadata": {
            "tags": []
          },
          "execution_count": 7
        }
      ]
    },
    {
      "cell_type": "markdown",
      "metadata": {
        "id": "0Jy6Ujv2GPoI",
        "colab_type": "text"
      },
      "source": [
        "#### Get the tweets into a list, for easy text clean up and manipulation"
      ]
    },
    {
      "cell_type": "code",
      "metadata": {
        "id": "MrQimGX9GPoK",
        "colab_type": "code",
        "colab": {}
      },
      "source": [
        "tweets0 = inp_tweets0.tweet.values"
      ],
      "execution_count": 0,
      "outputs": []
    },
    {
      "cell_type": "code",
      "metadata": {
        "id": "Lq8CMZZ2GPoQ",
        "colab_type": "code",
        "colab": {
          "base_uri": "https://localhost:8080/",
          "height": 34
        },
        "outputId": "b423ce5f-d519-46ff-dd5e-3677a3a08b95"
      },
      "source": [
        "len(tweets0)"
      ],
      "execution_count": 9,
      "outputs": [
        {
          "output_type": "execute_result",
          "data": {
            "text/plain": [
              "500"
            ]
          },
          "metadata": {
            "tags": []
          },
          "execution_count": 9
        }
      ]
    },
    {
      "cell_type": "code",
      "metadata": {
        "scrolled": true,
        "id": "usJqHpzsGPoZ",
        "colab_type": "code",
        "colab": {
          "base_uri": "https://localhost:8080/",
          "height": 139
        },
        "outputId": "f8093f54-9fb9-41ad-8672-bae5cae6e6cf"
      },
      "source": [
        "tweets0[:5]"
      ],
      "execution_count": 10,
      "outputs": [
        {
          "output_type": "execute_result",
          "data": {
            "text/plain": [
              "array(['Stocks losses deepen as a key recession warning surfaces @GOP #economy #fail #collapse #recession #gop #greed… https://t.co/F8kazAixUk',\n",
              "       \"RT @CallMeAhmjusAyn: The #economy.\\r\\n@FoxNews @realDonaldTrump \\r\\n#Trump is an ejit.\\r\\n#maga #TrumpTrain2020 #sheeple are idiot's.\\r\\n#farming #Trad…\",\n",
              "       'AP Explains: Is the US economy nearing a recession? \\r\\n#Business\\r\\n#Economy\\r\\n#Recession\\r\\n#TradeWar\\r\\n#China\\r\\n#EU… https://t.co/0jtsR2kSxi',\n",
              "       'A @JobCreatorsUSA / https://t.co/JXEt7hQU4k survey completed Tuesday, 56% rated the #economy as good or excellent,… https://t.co/j1XMiptADx',\n",
              "       'Who will stop mr. Mario Draghi and the ECB with this counterproductive course of money dumping / zero interests? It… https://t.co/eweIrVuOK0'],\n",
              "      dtype=object)"
            ]
          },
          "metadata": {
            "tags": []
          },
          "execution_count": 10
        }
      ]
    },
    {
      "cell_type": "markdown",
      "metadata": {
        "id": "-iIGzysRGPoh",
        "colab_type": "text"
      },
      "source": [
        "The tweets contain - \n",
        "1. URLs\n",
        "2. Hashtags\n",
        "3. User handles\n",
        "4. 'RT'"
      ]
    },
    {
      "cell_type": "markdown",
      "metadata": {
        "id": "3_9jcYnWGPoj",
        "colab_type": "text"
      },
      "source": [
        "## Cleanup "
      ]
    },
    {
      "cell_type": "markdown",
      "metadata": {
        "id": "-q8Kldk9GPom",
        "colab_type": "text"
      },
      "source": [
        "#### Normalizing case"
      ]
    },
    {
      "cell_type": "code",
      "metadata": {
        "id": "kfjE8JMfGPoo",
        "colab_type": "code",
        "colab": {}
      },
      "source": [
        "tweets_lower = [twt.lower() for twt in tweets0]"
      ],
      "execution_count": 0,
      "outputs": []
    },
    {
      "cell_type": "code",
      "metadata": {
        "id": "fKke0RPyGPov",
        "colab_type": "code",
        "colab": {
          "base_uri": "https://localhost:8080/",
          "height": 122
        },
        "outputId": "7e529df7-1d57-48e3-af26-cc8e3101da9d"
      },
      "source": [
        "tweets_lower[:5]"
      ],
      "execution_count": 12,
      "outputs": [
        {
          "output_type": "execute_result",
          "data": {
            "text/plain": [
              "['stocks losses deepen as a key recession warning surfaces @gop #economy #fail #collapse #recession #gop #greed… https://t.co/f8kazaixuk',\n",
              " \"rt @callmeahmjusayn: the #economy.\\r\\n@foxnews @realdonaldtrump \\r\\n#trump is an ejit.\\r\\n#maga #trumptrain2020 #sheeple are idiot's.\\r\\n#farming #trad…\",\n",
              " 'ap explains: is the us economy nearing a recession? \\r\\n#business\\r\\n#economy\\r\\n#recession\\r\\n#tradewar\\r\\n#china\\r\\n#eu… https://t.co/0jtsr2ksxi',\n",
              " 'a @jobcreatorsusa / https://t.co/jxet7hqu4k survey completed tuesday, 56% rated the #economy as good or excellent,… https://t.co/j1xmiptadx',\n",
              " 'who will stop mr. mario draghi and the ecb with this counterproductive course of money dumping / zero interests? it… https://t.co/eweirvuok0']"
            ]
          },
          "metadata": {
            "tags": []
          },
          "execution_count": 12
        }
      ]
    },
    {
      "cell_type": "markdown",
      "metadata": {
        "id": "Rjw7Kk0LGPo1",
        "colab_type": "text"
      },
      "source": [
        "#### Remove user handles, begin with '@'"
      ]
    },
    {
      "cell_type": "code",
      "metadata": {
        "id": "lrXBQvyiGPo3",
        "colab_type": "code",
        "colab": {}
      },
      "source": [
        "import re"
      ],
      "execution_count": 0,
      "outputs": []
    },
    {
      "cell_type": "code",
      "metadata": {
        "id": "qsxdCC5hGPo9",
        "colab_type": "code",
        "colab": {
          "base_uri": "https://localhost:8080/",
          "height": 34
        },
        "outputId": "300c8c63-038e-441a-95e8-5e08008ba8fe"
      },
      "source": [
        "re.sub(\"@\\w+\",\"\", \"@Rahim this course rocks! http://rahimbaig.com/ai\")"
      ],
      "execution_count": 14,
      "outputs": [
        {
          "output_type": "execute_result",
          "data": {
            "text/plain": [
              "' this course rocks! http://rahimbaig.com/ai'"
            ]
          },
          "metadata": {
            "tags": []
          },
          "execution_count": 14
        }
      ]
    },
    {
      "cell_type": "code",
      "metadata": {
        "id": "8FUaU9JnGPpE",
        "colab_type": "code",
        "colab": {}
      },
      "source": [
        "tweets_nouser = [re.sub(\"@\\w+\",\"\", twt) for twt in tweets_lower]"
      ],
      "execution_count": 0,
      "outputs": []
    },
    {
      "cell_type": "code",
      "metadata": {
        "id": "qgi9yzBRGPpM",
        "colab_type": "code",
        "colab": {
          "base_uri": "https://localhost:8080/",
          "height": 122
        },
        "outputId": "222692ee-2fae-4fbe-fa8d-ad7cd03b59a5"
      },
      "source": [
        "tweets_nouser[:5]"
      ],
      "execution_count": 16,
      "outputs": [
        {
          "output_type": "execute_result",
          "data": {
            "text/plain": [
              "['stocks losses deepen as a key recession warning surfaces  #economy #fail #collapse #recession #gop #greed… https://t.co/f8kazaixuk',\n",
              " \"rt : the #economy.\\r\\n  \\r\\n#trump is an ejit.\\r\\n#maga #trumptrain2020 #sheeple are idiot's.\\r\\n#farming #trad…\",\n",
              " 'ap explains: is the us economy nearing a recession? \\r\\n#business\\r\\n#economy\\r\\n#recession\\r\\n#tradewar\\r\\n#china\\r\\n#eu… https://t.co/0jtsr2ksxi',\n",
              " 'a  / https://t.co/jxet7hqu4k survey completed tuesday, 56% rated the #economy as good or excellent,… https://t.co/j1xmiptadx',\n",
              " 'who will stop mr. mario draghi and the ecb with this counterproductive course of money dumping / zero interests? it… https://t.co/eweirvuok0']"
            ]
          },
          "metadata": {
            "tags": []
          },
          "execution_count": 16
        }
      ]
    },
    {
      "cell_type": "markdown",
      "metadata": {
        "id": "rrJZnmqoGPpV",
        "colab_type": "text"
      },
      "source": [
        "#### Remove URLs"
      ]
    },
    {
      "cell_type": "code",
      "metadata": {
        "id": "O5OwGToBGPpW",
        "colab_type": "code",
        "colab": {
          "base_uri": "https://localhost:8080/",
          "height": 34
        },
        "outputId": "215cfc66-21f0-4c01-90f7-533e19beba62"
      },
      "source": [
        "re.sub(\"\\w+://\\S+\",\"\", \"@Rahim this course rocks! http://rahimbaig.com/ai\")"
      ],
      "execution_count": 17,
      "outputs": [
        {
          "output_type": "execute_result",
          "data": {
            "text/plain": [
              "'@Rahim this course rocks! '"
            ]
          },
          "metadata": {
            "tags": []
          },
          "execution_count": 17
        }
      ]
    },
    {
      "cell_type": "code",
      "metadata": {
        "id": "_FfyBQBzGPpd",
        "colab_type": "code",
        "colab": {}
      },
      "source": [
        "tweets_nourl = [re.sub(\"\\w+://\\S+\",\"\", twt) for twt in tweets_nouser]"
      ],
      "execution_count": 0,
      "outputs": []
    },
    {
      "cell_type": "code",
      "metadata": {
        "id": "gGtyrIhNGPpk",
        "colab_type": "code",
        "colab": {
          "base_uri": "https://localhost:8080/",
          "height": 122
        },
        "outputId": "cca36d4c-dd4a-46bc-a5d6-7e7b2a64b255"
      },
      "source": [
        "tweets_nourl[:5]"
      ],
      "execution_count": 19,
      "outputs": [
        {
          "output_type": "execute_result",
          "data": {
            "text/plain": [
              "['stocks losses deepen as a key recession warning surfaces  #economy #fail #collapse #recession #gop #greed… ',\n",
              " \"rt : the #economy.\\r\\n  \\r\\n#trump is an ejit.\\r\\n#maga #trumptrain2020 #sheeple are idiot's.\\r\\n#farming #trad…\",\n",
              " 'ap explains: is the us economy nearing a recession? \\r\\n#business\\r\\n#economy\\r\\n#recession\\r\\n#tradewar\\r\\n#china\\r\\n#eu… ',\n",
              " 'a  /  survey completed tuesday, 56% rated the #economy as good or excellent,… ',\n",
              " 'who will stop mr. mario draghi and the ecb with this counterproductive course of money dumping / zero interests? it… ']"
            ]
          },
          "metadata": {
            "tags": []
          },
          "execution_count": 19
        }
      ]
    },
    {
      "cell_type": "code",
      "metadata": {
        "id": "9AxqZclpGPpr",
        "colab_type": "code",
        "colab": {
          "base_uri": "https://localhost:8080/",
          "height": 102
        },
        "outputId": "f7b03268-4563-47e2-a00f-caa922601caf"
      },
      "source": [
        "tweets_nourl[-5:]"
      ],
      "execution_count": 20,
      "outputs": [
        {
          "output_type": "execute_result",
          "data": {
            "text/plain": [
              "['rt : . has transformed (and expanded) the republican party, making it the party of blue collar working america…',\n",
              " 'rt : #lebanon #beirut #politics #economy #commerce #funny #daily #media #crazy #science #food\\r\\n',\n",
              " 'rt : . has transformed (and expanded) the republican party, making it the party of blue collar working america…',\n",
              " \"rt : rt.'s #facts #thread\\r\\n1). blames u.s. sanctions for #iran’s crumbling #economy. #blacklistirgc #corrupti…\",\n",
              " '#primeminister  commits to pumping 1.4$tr into the #economy of #india via #infrastructure projects .… ']"
            ]
          },
          "metadata": {
            "tags": []
          },
          "execution_count": 20
        }
      ]
    },
    {
      "cell_type": "markdown",
      "metadata": {
        "id": "OtFltji5GPpx",
        "colab_type": "text"
      },
      "source": [
        "#### Extracting only the hashtags from the tweets - remember, we want to analyse the most common hashtags in the tweets"
      ]
    },
    {
      "cell_type": "code",
      "metadata": {
        "id": "Po_AXlY1GPpy",
        "colab_type": "code",
        "colab": {
          "base_uri": "https://localhost:8080/",
          "height": 34
        },
        "outputId": "6971dc38-b25e-4363-bb7c-bd50a26df6a8"
      },
      "source": [
        "re.findall(\"#\\w+\",\"I love this #love #life and fun\")"
      ],
      "execution_count": 21,
      "outputs": [
        {
          "output_type": "execute_result",
          "data": {
            "text/plain": [
              "['#love', '#life']"
            ]
          },
          "metadata": {
            "tags": []
          },
          "execution_count": 21
        }
      ]
    },
    {
      "cell_type": "code",
      "metadata": {
        "id": "RNx0FhORGPp5",
        "colab_type": "code",
        "colab": {
          "base_uri": "https://localhost:8080/",
          "height": 34
        },
        "outputId": "1be14e70-501a-4bf9-f7d1-54f8c6c8b890"
      },
      "source": [
        "re.findall(\"#\\w+\",\"@Rahim #food is #love\")"
      ],
      "execution_count": 22,
      "outputs": [
        {
          "output_type": "execute_result",
          "data": {
            "text/plain": [
              "['#food', '#love']"
            ]
          },
          "metadata": {
            "tags": []
          },
          "execution_count": 22
        }
      ]
    },
    {
      "cell_type": "code",
      "metadata": {
        "id": "1c4RDnHWGPp_",
        "colab_type": "code",
        "colab": {}
      },
      "source": [
        "hashtags0 = [re.findall('#\\w+',twt) for twt in tweets_nourl]"
      ],
      "execution_count": 0,
      "outputs": []
    },
    {
      "cell_type": "code",
      "metadata": {
        "id": "-P-6CWG0GPqJ",
        "colab_type": "code",
        "colab": {
          "base_uri": "https://localhost:8080/",
          "height": 204
        },
        "outputId": "0d41ff58-813d-44f7-890c-f3894e7a9983"
      },
      "source": [
        "hashtags0[:5]"
      ],
      "execution_count": 24,
      "outputs": [
        {
          "output_type": "execute_result",
          "data": {
            "text/plain": [
              "[['#economy', '#fail', '#collapse', '#recession', '#gop', '#greed'],\n",
              " ['#economy',\n",
              "  '#trump',\n",
              "  '#maga',\n",
              "  '#trumptrain2020',\n",
              "  '#sheeple',\n",
              "  '#farming',\n",
              "  '#trad'],\n",
              " ['#business', '#economy', '#recession', '#tradewar', '#china', '#eu'],\n",
              " ['#economy'],\n",
              " []]"
            ]
          },
          "metadata": {
            "tags": []
          },
          "execution_count": 24
        }
      ]
    },
    {
      "cell_type": "markdown",
      "metadata": {
        "id": "Z8NmyQLXGPqR",
        "colab_type": "text"
      },
      "source": [
        "### Finding out the most common hashtags and plotting them"
      ]
    },
    {
      "cell_type": "markdown",
      "metadata": {
        "id": "PUR5fW7pGPqS",
        "colab_type": "text"
      },
      "source": [
        "#### First, combining all the individuals lists into a single list, which can easily be passed to a counter"
      ]
    },
    {
      "cell_type": "code",
      "metadata": {
        "id": "kceZybHPGPqT",
        "colab_type": "code",
        "colab": {}
      },
      "source": [
        "#Declaring an empty list which will later contain all the hashtags\n",
        "all_hashtags = []"
      ],
      "execution_count": 0,
      "outputs": []
    },
    {
      "cell_type": "code",
      "metadata": {
        "id": "boAVXoTeGPqZ",
        "colab_type": "code",
        "colab": {}
      },
      "source": [
        "for twt in hashtags0:\n",
        "    all_hashtags.extend(twt)"
      ],
      "execution_count": 0,
      "outputs": []
    },
    {
      "cell_type": "code",
      "metadata": {
        "id": "pfrVf0CyGPqf",
        "colab_type": "code",
        "colab": {
          "base_uri": "https://localhost:8080/",
          "height": 34
        },
        "outputId": "d2950d67-98af-4808-f30b-a068fa32e83f"
      },
      "source": [
        "all_hashtags[:5]"
      ],
      "execution_count": 27,
      "outputs": [
        {
          "output_type": "execute_result",
          "data": {
            "text/plain": [
              "['#economy', '#fail', '#collapse', '#recession', '#gop']"
            ]
          },
          "metadata": {
            "tags": []
          },
          "execution_count": 27
        }
      ]
    },
    {
      "cell_type": "code",
      "metadata": {
        "id": "8q3mBHHgGPqm",
        "colab_type": "code",
        "colab": {
          "base_uri": "https://localhost:8080/",
          "height": 34
        },
        "outputId": "14e85272-9f47-4b68-ac4a-0243428402b0"
      },
      "source": [
        "len(all_hashtags)"
      ],
      "execution_count": 28,
      "outputs": [
        {
          "output_type": "execute_result",
          "data": {
            "text/plain": [
              "1061"
            ]
          },
          "metadata": {
            "tags": []
          },
          "execution_count": 28
        }
      ]
    },
    {
      "cell_type": "markdown",
      "metadata": {
        "id": "hP55U8qqGPqv",
        "colab_type": "text"
      },
      "source": [
        "#### Removing '#economy' from the data, as this is what the tweets are about"
      ]
    },
    {
      "cell_type": "code",
      "metadata": {
        "id": "futZjuHdGPqw",
        "colab_type": "code",
        "colab": {}
      },
      "source": [
        "stop_contextual = ['#economy']"
      ],
      "execution_count": 0,
      "outputs": []
    },
    {
      "cell_type": "markdown",
      "metadata": {
        "id": "y9t7cdPWGPq2",
        "colab_type": "text"
      },
      "source": [
        "#### Removing the contextual stopwords"
      ]
    },
    {
      "cell_type": "code",
      "metadata": {
        "id": "_genmZgdGPq4",
        "colab_type": "code",
        "colab": {}
      },
      "source": [
        "all_hashtags = [tag for tag in all_hashtags if tag not in stop_contextual]"
      ],
      "execution_count": 0,
      "outputs": []
    },
    {
      "cell_type": "code",
      "metadata": {
        "id": "WLmXZox-GPq_",
        "colab_type": "code",
        "colab": {
          "base_uri": "https://localhost:8080/",
          "height": 34
        },
        "outputId": "4829f59d-2bbc-4b65-a5a8-e0227967e709"
      },
      "source": [
        "len(all_hashtags)"
      ],
      "execution_count": 31,
      "outputs": [
        {
          "output_type": "execute_result",
          "data": {
            "text/plain": [
              "815"
            ]
          },
          "metadata": {
            "tags": []
          },
          "execution_count": 31
        }
      ]
    },
    {
      "cell_type": "code",
      "metadata": {
        "id": "IUJ8v8E6GPrF",
        "colab_type": "code",
        "colab": {
          "base_uri": "https://localhost:8080/",
          "height": 34
        },
        "outputId": "991bd708-087a-4027-941c-26c78483c09d"
      },
      "source": [
        "all_hashtags[:5]"
      ],
      "execution_count": 32,
      "outputs": [
        {
          "output_type": "execute_result",
          "data": {
            "text/plain": [
              "['#fail', '#collapse', '#recession', '#gop', '#greed']"
            ]
          },
          "metadata": {
            "tags": []
          },
          "execution_count": 32
        }
      ]
    },
    {
      "cell_type": "markdown",
      "metadata": {
        "id": "nzccT_oaGPrP",
        "colab_type": "text"
      },
      "source": [
        "#### Using a counter to get the top hashtags"
      ]
    },
    {
      "cell_type": "code",
      "metadata": {
        "id": "AXxgF8reGPrQ",
        "colab_type": "code",
        "colab": {}
      },
      "source": [
        "from collections import Counter"
      ],
      "execution_count": 0,
      "outputs": []
    },
    {
      "cell_type": "code",
      "metadata": {
        "id": "UYLqzCobGPrW",
        "colab_type": "code",
        "colab": {}
      },
      "source": [
        "counts_hashtags = Counter(all_hashtags)"
      ],
      "execution_count": 0,
      "outputs": []
    },
    {
      "cell_type": "code",
      "metadata": {
        "scrolled": true,
        "id": "qkpueZn3GPrd",
        "colab_type": "code",
        "colab": {
          "base_uri": "https://localhost:8080/",
          "height": 187
        },
        "outputId": "266540ea-46d1-4104-b1ea-9c2b21aa8e23"
      },
      "source": [
        "counts_hashtags.most_common(10)"
      ],
      "execution_count": 35,
      "outputs": [
        {
          "output_type": "execute_result",
          "data": {
            "text/plain": [
              "[('#recession', 24),\n",
              " ('#india', 20),\n",
              " ('#business', 18),\n",
              " ('#hongkong', 17),\n",
              " ('#bloomberg', 15),\n",
              " ('#china', 12),\n",
              " ('#trump', 10),\n",
              " ('#markets', 9),\n",
              " ('#economics', 9),\n",
              " ('#infrastructure', 9)]"
            ]
          },
          "metadata": {
            "tags": []
          },
          "execution_count": 35
        }
      ]
    },
    {
      "cell_type": "markdown",
      "metadata": {
        "id": "QfaALJzRGPrj",
        "colab_type": "text"
      },
      "source": [
        "#### Plotting the top 10 hashtags"
      ]
    },
    {
      "cell_type": "code",
      "metadata": {
        "id": "s9cgo0x1GPrk",
        "colab_type": "code",
        "colab": {}
      },
      "source": [
        "import matplotlib.pyplot as plt"
      ],
      "execution_count": 0,
      "outputs": []
    },
    {
      "cell_type": "code",
      "metadata": {
        "id": "48MwXEuhGPrr",
        "colab_type": "code",
        "colab": {}
      },
      "source": [
        "res = counts_hashtags.most_common(10)"
      ],
      "execution_count": 0,
      "outputs": []
    },
    {
      "cell_type": "code",
      "metadata": {
        "id": "Gmry7ZbAGPr0",
        "colab_type": "code",
        "colab": {}
      },
      "source": [
        "res2 = {term:cnt for term, cnt in res}"
      ],
      "execution_count": 0,
      "outputs": []
    },
    {
      "cell_type": "code",
      "metadata": {
        "id": "pLuAjEGyGPr7",
        "colab_type": "code",
        "colab": {
          "base_uri": "https://localhost:8080/",
          "height": 187
        },
        "outputId": "60d458a4-199a-4319-e48f-2fe42e523a22"
      },
      "source": [
        "list(res2.keys())"
      ],
      "execution_count": 39,
      "outputs": [
        {
          "output_type": "execute_result",
          "data": {
            "text/plain": [
              "['#recession',\n",
              " '#india',\n",
              " '#business',\n",
              " '#hongkong',\n",
              " '#bloomberg',\n",
              " '#china',\n",
              " '#trump',\n",
              " '#markets',\n",
              " '#economics',\n",
              " '#infrastructure']"
            ]
          },
          "metadata": {
            "tags": []
          },
          "execution_count": 39
        }
      ]
    },
    {
      "cell_type": "code",
      "metadata": {
        "id": "9osVmjCtGPsB",
        "colab_type": "code",
        "colab": {
          "base_uri": "https://localhost:8080/",
          "height": 34
        },
        "outputId": "c0db6daf-2210-4d44-9f2a-2b16d11374a4"
      },
      "source": [
        "list(res2.values())"
      ],
      "execution_count": 40,
      "outputs": [
        {
          "output_type": "execute_result",
          "data": {
            "text/plain": [
              "[24, 20, 18, 17, 15, 12, 10, 9, 9, 9]"
            ]
          },
          "metadata": {
            "tags": []
          },
          "execution_count": 40
        }
      ]
    },
    {
      "cell_type": "code",
      "metadata": {
        "id": "2DVD9r1WGPsK",
        "colab_type": "code",
        "colab": {
          "base_uri": "https://localhost:8080/",
          "height": 265
        },
        "outputId": "ba59bcb1-c759-4b8c-e8e4-65a7f23cb8d4"
      },
      "source": [
        "plt.barh(list(res2.keys()), list(res2.values()), color=\"teal\")\n",
        "plt.show()"
      ],
      "execution_count": 41,
      "outputs": [
        {
          "output_type": "display_data",
          "data": {
            "image/png": "[encoded data removed]",
            "text/plain": [
              "<Figure size 432x288 with 1 Axes>"
            ]
          },
          "metadata": {
            "tags": [],
            "needs_background": "light"
          }
        }
      ]
    },
    {
      "cell_type": "code",
      "metadata": {
        "id": "ZA_Pu6X_GBfy",
        "colab_type": "code",
        "colab": {}
      },
      "source": [
        ""
      ],
      "execution_count": 0,
      "outputs": []
    }
  ]
}